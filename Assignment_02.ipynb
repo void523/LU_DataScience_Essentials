{
 "cells": [
  {
   "cell_type": "markdown",
   "metadata": {},
   "source": [
    "# Question 1"
   ]
  },
  {
   "cell_type": "code",
   "execution_count": 14,
   "metadata": {},
   "outputs": [
    {
     "name": "stdout",
     "output_type": "stream",
     "text": [
      "1\n",
      "2\n",
      "3\n",
      "4\n",
      "5\n",
      "6\n",
      "7\n",
      "8\n",
      "9\n",
      "[1, 3, 5, 7, 9]\n"
     ]
    }
   ],
   "source": [
    "#Create an empty list. Accept 10 numbers from the user and append to it the list if it is an even number.\n",
    "#ans:\n",
    "\n",
    "l=[]\n",
    "for i in range(9):\n",
    "    x=int(input())\n",
    "    if x%2!=0:\n",
    "        l.append(x)\n",
    "print(l)\n",
    "\n",
    "    "
   ]
  },
  {
   "cell_type": "markdown",
   "metadata": {},
   "source": [
    "# Question 2"
   ]
  },
  {
   "cell_type": "code",
   "execution_count": null,
   "metadata": {},
   "outputs": [],
   "source": [
    "#Create a notebook on LIST COMPREHENSION. This exercise is to put you in a Self learning mode"
   ]
  },
  {
   "cell_type": "markdown",
   "metadata": {},
   "source": [
    "#  LIST COMPREHENSION\n"
   ]
  },
  {
   "cell_type": "code",
   "execution_count": 6,
   "metadata": {},
   "outputs": [
    {
     "name": "stdout",
     "output_type": "stream",
     "text": [
      "[1, 4, 9, 16]\n",
      "[2, 3, 4]\n"
     ]
    }
   ],
   "source": [
    "#List comprehensions are used for creating new lists from other iterables.\n",
    "#This is the basic syntax:\n",
    "#new_list = [expression for_loop_one_or_more conditions]\n",
    "#eg_1\n",
    "#normal method\n",
    "numbers = [1, 2, 3, 4]\n",
    "squares = []\n",
    "\n",
    "for n in numbers:\n",
    "  squares.append(n**2)\n",
    "\n",
    "print(squares)\n",
    "# Output: [1, 4, 9, 16]\n",
    "\n",
    "#using list comprehension\n",
    "num=[1,2,3,4]\n",
    "sq=[n**2 for n in num]\n",
    "\n",
    "########################\n",
    "\n",
    "#eg_2:\n",
    "#normal method\n",
    "list_a = [1, 2, 3, 4]\n",
    "list_b = [2, 3, 4, 5]\n",
    "\n",
    "common_num = []\n",
    "\n",
    "for a in list_a:\n",
    "  for b in list_b:\n",
    "    if a == b:\n",
    "      common_num.append(a)\n",
    "      \n",
    "print(common_num) \n",
    "# Output [2, 3, 4]\n",
    "\n",
    "#using list comprehension\n",
    "\n",
    "list_a = [1, 2, 3, 4]\n",
    "list_b = [2, 3, 4, 5]\n",
    "common_num = [a for a in list_a for b in list_b if a == b]"
   ]
  },
  {
   "cell_type": "markdown",
   "metadata": {},
   "source": [
    "# Question 3"
   ]
  },
  {
   "cell_type": "code",
   "execution_count": 19,
   "metadata": {},
   "outputs": [
    {
     "name": "stdout",
     "output_type": "stream",
     "text": [
      "8\n",
      "{1: 1, 2: 4, 3: 9, 4: 16, 5: 25, 6: 36, 7: 49, 8: 64}\n"
     ]
    }
   ],
   "source": [
    "#You have seen in the videos how powerful dictionary data structure is.\n",
    "#In this assignment, given a number n, you have to write a program that generates a dictionary d which\n",
    "#contains (i, i*i), where i is from 1 to n (both included).\n",
    "#Then you have to just print this dictionary d.\n",
    "#ans:\n",
    " \n",
    "d={}\n",
    "n=int(input())\n",
    "for i in range(1,n+1):\n",
    "    d[i]=i*i\n",
    "print(d)\n",
    "    \n"
   ]
  },
  {
   "cell_type": "markdown",
   "metadata": {},
   "source": [
    "#  Question 4"
   ]
  },
  {
   "cell_type": "code",
   "execution_count": 1,
   "metadata": {},
   "outputs": [
    {
     "name": "stdout",
     "output_type": "stream",
     "text": [
      "4\n",
      "UP 5\n",
      "DOWN 3\n",
      "LEFT 3\n",
      "RIGHT 2\n",
      "2\n"
     ]
    }
   ],
   "source": [
    "#There is a robot which wants to go the charging point to charge itself.\n",
    "#The robot moves in a 2-D plane from the original point (0,0). The robot can \n",
    "#move toward UP, DOWN, LEFT and RIGHT with given steps.\n",
    "#The trace of robot movement is shown as the following:\n",
    "#UP 5 | DOWN 3 | LEFT 3 | RIGHT 2\n",
    "#Then, the output of the program should be: 2\n",
    "#The numbers after the direction are steps.\n",
    "#Write a program to compute the distance between the current position after a sequence of movement and \n",
    "#original point. If the distance is a float, then just print the nearest integer \n",
    "#(use round() function for that and then convert it into an integer).\n",
    "#Input Format:\n",
    "#The first line of the input contains a number n which implies the number of directions to be given.\n",
    "#The next n lines contain the direction and the step separated by a space.\n",
    "#Output Format:\n",
    "#Print the distance from the original position to the current position.\n",
    "#ans:\n",
    "\n",
    "\n",
    "p = {\"x\":0,\"y\":0}\n",
    "x = int(input())\n",
    "\n",
    "# for loop\n",
    "for i in range (x):\n",
    "    move =  input().split(\" \")      \n",
    "    if move[0].lower() == \"up\":     \n",
    "        p[\"y\"] += int(move[1])    \n",
    "    \n",
    "    elif move[0].lower() == \"down\":\n",
    "        p[\"y\"] -= int(move[1])\n",
    "    \n",
    "    elif move[0].lower() == \"left\":\n",
    "        p[\"x\"] -= int(move[1])\n",
    "    \n",
    "    elif move[0].lower() == \"right\":\n",
    "        p[\"x\"] += int(move[1])\n",
    "\n",
    "#  printing the result\n",
    "print(int(round((p[\"x\"]**2 + p[\"y\"]**2)**0.5)))  "
   ]
  }
 ],
 "metadata": {
  "kernelspec": {
   "display_name": "Python 3",
   "language": "python",
   "name": "python3"
  },
  "language_info": {
   "codemirror_mode": {
    "name": "ipython",
    "version": 3
   },
   "file_extension": ".py",
   "mimetype": "text/x-python",
   "name": "python",
   "nbconvert_exporter": "python",
   "pygments_lexer": "ipython3",
   "version": "3.8.3"
  }
 },
 "nbformat": 4,
 "nbformat_minor": 4
}
