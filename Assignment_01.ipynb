{
 "cells": [
  {
   "cell_type": "markdown",
   "metadata": {},
   "source": [
    "# Question 1"
   ]
  },
  {
   "cell_type": "raw",
   "metadata": {},
   "source": [
    "Given the following jumbled word, OBANWRI guess the correct English word.\n",
    "\n",
    "A. RANIBOW\n",
    "B. RAINBOW\n",
    "C. BOWRANI\n",
    "D. ROBWANI\n",
    "\n",
    "ans: B"
   ]
  },
  {
   "cell_type": "markdown",
   "metadata": {},
   "source": [
    "# Question 2"
   ]
  },
  {
   "cell_type": "code",
   "execution_count": 3,
   "metadata": {},
   "outputs": [
    {
     "name": "stdout",
     "output_type": "stream",
     "text": [
      "enter the word : lets upgrade\n",
      "LETS UPGRADE\n"
     ]
    }
   ],
   "source": [
    "#Write a program which prints “LETS UPGRADE”. (Please note that you have to print in ALL CAPS as given)\n",
    "\n",
    "#ans:\n",
    "x=input(\"enter the word : \")\n",
    "print(str.upper(x))"
   ]
  },
  {
   "cell_type": "markdown",
   "metadata": {},
   "source": [
    "# Question 3"
   ]
  },
  {
   "cell_type": "code",
   "execution_count": 8,
   "metadata": {},
   "outputs": [
    {
     "name": "stdout",
     "output_type": "stream",
     "text": [
      "20\n",
      "30\n",
      "Profit\n"
     ]
    }
   ],
   "source": [
    "#Write a program that takes cost price and selling price as input and displays whether the transaction is a\n",
    "#Profit or a Loss or Neither.\n",
    "#INPUT FORMAT\n",
    "#The first line contains the cost price.\n",
    "#The second line contains the selling price.\n",
    "#OUTPUT FORMAT\n",
    "#Print \"Profit\" if the transaction is a profit or \"Loss\" if it is a loss.\n",
    "#If it is neither profit nor loss, print \"Neither\". (You must not have quotes in your output)\n",
    "\n",
    "#ans:\n",
    "cp=float(input())\n",
    "sp=float(input())\n",
    "if cp>sp:\n",
    "    print(\"Loss\")\n",
    "elif cp<sp:\n",
    "    print(\"Profit\")\n",
    "else:\n",
    "    print(\"Neither\")\n",
    "        \n"
   ]
  },
  {
   "cell_type": "markdown",
   "metadata": {},
   "source": [
    "# Question 4"
   ]
  },
  {
   "cell_type": "code",
   "execution_count": 11,
   "metadata": {},
   "outputs": [
    {
     "name": "stdout",
     "output_type": "stream",
     "text": [
      "20\n",
      "1600\n"
     ]
    }
   ],
   "source": [
    "#Write a program that takes an amount in Euros as input.\n",
    "#You need to find its equivalent in Rupees and display it. Assume 1 Euro equals Rs. 80.\n",
    "#Please note that you are expected to stick to the given input and outputformat as in sample test cases.\n",
    "#Please don't add any extra lines such as'Enter a number', etc.\n",
    "#Your program should take only one number as input and display the output.\n",
    "\n",
    "#ans:\n",
    "\n",
    "euro=int(input())\n",
    "ind=80*euro\n",
    "print(ind)\n"
   ]
  },
  {
   "cell_type": "code",
   "execution_count": null,
   "metadata": {},
   "outputs": [],
   "source": []
  }
 ],
 "metadata": {
  "kernelspec": {
   "display_name": "Python 3",
   "language": "python",
   "name": "python3"
  },
  "language_info": {
   "codemirror_mode": {
    "name": "ipython",
    "version": 3
   },
   "file_extension": ".py",
   "mimetype": "text/x-python",
   "name": "python",
   "nbconvert_exporter": "python",
   "pygments_lexer": "ipython3",
   "version": "3.8.3"
  }
 },
 "nbformat": 4,
 "nbformat_minor": 4
}
